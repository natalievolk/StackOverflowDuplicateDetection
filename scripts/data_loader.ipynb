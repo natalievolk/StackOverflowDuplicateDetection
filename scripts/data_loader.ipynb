{
  "cells": [
    {
      "cell_type": "code",
      "execution_count": null,
      "metadata": {
        "colab": {
          "base_uri": "https://localhost:8080/"
        },
        "id": "aaPWx-SYxutM",
        "outputId": "6e6beed3-60ec-48a3-e04f-554759a4f1e8"
      },
      "outputs": [
        {
          "name": "stdout",
          "output_type": "stream",
          "text": [
            "Drive already mounted at /content/drive; to attempt to forcibly remount, call drive.mount(\"/content/drive\", force_remount=True).\n"
          ]
        }
      ],
      "source": [
        "import pandas as pd\n",
        "from google.colab import files\n",
        "from google.colab import drive\n",
        "import csv\n",
        "drive.mount('/content/drive')"
      ]
    },
    {
      "attachments": {},
      "cell_type": "markdown",
      "metadata": {},
      "source": [
        "### FOR TRAINING CLASSIFIER HEAD WITH RANDOM (NON-DUPL) PAIRS"
      ]
    },
    {
      "cell_type": "code",
      "execution_count": null,
      "metadata": {
        "colab": {
          "base_uri": "https://localhost:8080/",
          "height": 159
        },
        "id": "eAuteMtx-scX",
        "outputId": "65713d23-3f10-40ab-ff18-acdffde8319a"
      },
      "outputs": [
        {
          "name": "stdout",
          "output_type": "stream",
          "text": [
            "Drive already mounted at /content/drive; to attempt to forcibly remount, call drive.mount(\"/content/drive\", force_remount=True).\n"
          ]
        },
        {
          "data": {
            "text/html": [
              "\n",
              "  <div id=\"df-32695e41-1fa1-4031-a0a8-e6098164168e\">\n",
              "    <div class=\"colab-df-container\">\n",
              "      <div>\n",
              "<style scoped>\n",
              "    .dataframe tbody tr th:only-of-type {\n",
              "        vertical-align: middle;\n",
              "    }\n",
              "\n",
              "    .dataframe tbody tr th {\n",
              "        vertical-align: top;\n",
              "    }\n",
              "\n",
              "    .dataframe thead th {\n",
              "        text-align: right;\n",
              "    }\n",
              "</style>\n",
              "<table border=\"1\" class=\"dataframe\">\n",
              "  <thead>\n",
              "    <tr style=\"text-align: right;\">\n",
              "      <th></th>\n",
              "      <th>1</th>\n",
              "      <th>2</th>\n",
              "      <th>3</th>\n",
              "      <th>4</th>\n",
              "      <th>5</th>\n",
              "      <th>6</th>\n",
              "      <th>7</th>\n",
              "      <th>8</th>\n",
              "      <th>label</th>\n",
              "    </tr>\n",
              "  </thead>\n",
              "  <tbody>\n",
              "    <tr>\n",
              "      <th>1</th>\n",
              "      <td>75780318.0</td>\n",
              "      <td>Reason about auxuliary constructors in scala</td>\n",
              "      <td>&lt;p&gt;I have class methods to define auxiliary co...</td>\n",
              "      <td>&lt;java&gt;&lt;scala&gt;</td>\n",
              "      <td>28577</td>\n",
              "      <td>Globalization architecture</td>\n",
              "      <td>&lt;p&gt;I need to store products for an e-commerce ...</td>\n",
              "      <td>&lt;c#&gt;&lt;architecture&gt;&lt;localization&gt;&lt;globalization&gt;</td>\n",
              "      <td>0</td>\n",
              "    </tr>\n",
              "  </tbody>\n",
              "</table>\n",
              "</div>\n",
              "      <button class=\"colab-df-convert\" onclick=\"convertToInteractive('df-32695e41-1fa1-4031-a0a8-e6098164168e')\"\n",
              "              title=\"Convert this dataframe to an interactive table.\"\n",
              "              style=\"display:none;\">\n",
              "        \n",
              "  <svg xmlns=\"http://www.w3.org/2000/svg\" height=\"24px\"viewBox=\"0 0 24 24\"\n",
              "       width=\"24px\">\n",
              "    <path d=\"M0 0h24v24H0V0z\" fill=\"none\"/>\n",
              "    <path d=\"M18.56 5.44l.94 2.06.94-2.06 2.06-.94-2.06-.94-.94-2.06-.94 2.06-2.06.94zm-11 1L8.5 8.5l.94-2.06 2.06-.94-2.06-.94L8.5 2.5l-.94 2.06-2.06.94zm10 10l.94 2.06.94-2.06 2.06-.94-2.06-.94-.94-2.06-.94 2.06-2.06.94z\"/><path d=\"M17.41 7.96l-1.37-1.37c-.4-.4-.92-.59-1.43-.59-.52 0-1.04.2-1.43.59L10.3 9.45l-7.72 7.72c-.78.78-.78 2.05 0 2.83L4 21.41c.39.39.9.59 1.41.59.51 0 1.02-.2 1.41-.59l7.78-7.78 2.81-2.81c.8-.78.8-2.07 0-2.86zM5.41 20L4 18.59l7.72-7.72 1.47 1.35L5.41 20z\"/>\n",
              "  </svg>\n",
              "      </button>\n",
              "      \n",
              "  <style>\n",
              "    .colab-df-container {\n",
              "      display:flex;\n",
              "      flex-wrap:wrap;\n",
              "      gap: 12px;\n",
              "    }\n",
              "\n",
              "    .colab-df-convert {\n",
              "      background-color: #E8F0FE;\n",
              "      border: none;\n",
              "      border-radius: 50%;\n",
              "      cursor: pointer;\n",
              "      display: none;\n",
              "      fill: #1967D2;\n",
              "      height: 32px;\n",
              "      padding: 0 0 0 0;\n",
              "      width: 32px;\n",
              "    }\n",
              "\n",
              "    .colab-df-convert:hover {\n",
              "      background-color: #E2EBFA;\n",
              "      box-shadow: 0px 1px 2px rgba(60, 64, 67, 0.3), 0px 1px 3px 1px rgba(60, 64, 67, 0.15);\n",
              "      fill: #174EA6;\n",
              "    }\n",
              "\n",
              "    [theme=dark] .colab-df-convert {\n",
              "      background-color: #3B4455;\n",
              "      fill: #D2E3FC;\n",
              "    }\n",
              "\n",
              "    [theme=dark] .colab-df-convert:hover {\n",
              "      background-color: #434B5C;\n",
              "      box-shadow: 0px 1px 3px 1px rgba(0, 0, 0, 0.15);\n",
              "      filter: drop-shadow(0px 1px 2px rgba(0, 0, 0, 0.3));\n",
              "      fill: #FFFFFF;\n",
              "    }\n",
              "  </style>\n",
              "\n",
              "      <script>\n",
              "        const buttonEl =\n",
              "          document.querySelector('#df-32695e41-1fa1-4031-a0a8-e6098164168e button.colab-df-convert');\n",
              "        buttonEl.style.display =\n",
              "          google.colab.kernel.accessAllowed ? 'block' : 'none';\n",
              "\n",
              "        async function convertToInteractive(key) {\n",
              "          const element = document.querySelector('#df-32695e41-1fa1-4031-a0a8-e6098164168e');\n",
              "          const dataTable =\n",
              "            await google.colab.kernel.invokeFunction('convertToInteractive',\n",
              "                                                     [key], {});\n",
              "          if (!dataTable) return;\n",
              "\n",
              "          const docLinkHtml = 'Like what you see? Visit the ' +\n",
              "            '<a target=\"_blank\" href=https://colab.research.google.com/notebooks/data_table.ipynb>data table notebook</a>'\n",
              "            + ' to learn more about interactive tables.';\n",
              "          element.innerHTML = '';\n",
              "          dataTable['output_type'] = 'display_data';\n",
              "          await google.colab.output.renderOutput(dataTable, element);\n",
              "          const docLink = document.createElement('div');\n",
              "          docLink.innerHTML = docLinkHtml;\n",
              "          element.appendChild(docLink);\n",
              "        }\n",
              "      </script>\n",
              "    </div>\n",
              "  </div>\n",
              "  "
            ],
            "text/plain": [
              "            1                                             2  \\\n",
              "1  75780318.0  Reason about auxuliary constructors in scala   \n",
              "\n",
              "                                                   3              4      5  \\\n",
              "1  <p>I have class methods to define auxiliary co...  <java><scala>  28577   \n",
              "\n",
              "                            6  \\\n",
              "1  Globalization architecture   \n",
              "\n",
              "                                                   7  \\\n",
              "1  <p>I need to store products for an e-commerce ...   \n",
              "\n",
              "                                                 8  label  \n",
              "1  <c#><architecture><localization><globalization>      0  "
            ]
          },
          "execution_count": 72,
          "metadata": {},
          "output_type": "execute_result"
        }
      ],
      "source": [
        "# MUST MODIFY THIS TO YOUR OWN PATH\n",
        "with open('/content/drive/My Drive/classifier_random_pairs.csv','r') as csvfile:\n",
        "    data_reader = csv.reader(csvfile)\n",
        "\n",
        "    data = []\n",
        "    for row in data_reader:\n",
        "        data.append(row)\n",
        "\n",
        "df = pd.DataFrame(data)\n",
        "df = df.iloc[1: , 1:]\n",
        "# non-duplicates: label 0\n",
        "df[\"label\"] = 0"
      ]
    },
    {
      "cell_type": "code",
      "execution_count": null,
      "metadata": {
        "colab": {
          "base_uri": "https://localhost:8080/",
          "height": 239
        },
        "id": "l-diPDyYwlHn",
        "outputId": "cf2b08c5-1bc5-47bd-9658-eae965f45dd3"
      },
      "outputs": [
        {
          "data": {
            "text/html": [
              "\n",
              "  <div id=\"df-26da1db9-41c1-477e-915d-0966c4ca717f\">\n",
              "    <div class=\"colab-df-container\">\n",
              "      <div>\n",
              "<style scoped>\n",
              "    .dataframe tbody tr th:only-of-type {\n",
              "        vertical-align: middle;\n",
              "    }\n",
              "\n",
              "    .dataframe tbody tr th {\n",
              "        vertical-align: top;\n",
              "    }\n",
              "\n",
              "    .dataframe thead th {\n",
              "        text-align: right;\n",
              "    }\n",
              "</style>\n",
              "<table border=\"1\" class=\"dataframe\">\n",
              "  <thead>\n",
              "    <tr style=\"text-align: right;\">\n",
              "      <th></th>\n",
              "      <th>1</th>\n",
              "      <th>2</th>\n",
              "      <th>3</th>\n",
              "      <th>4</th>\n",
              "      <th>5</th>\n",
              "      <th>6</th>\n",
              "      <th>7</th>\n",
              "      <th>8</th>\n",
              "      <th>label</th>\n",
              "    </tr>\n",
              "  </thead>\n",
              "  <tbody>\n",
              "    <tr>\n",
              "      <th>1</th>\n",
              "      <td>75780318.0</td>\n",
              "      <td>Reason about auxuliary constructors in scala</td>\n",
              "      <td>&lt;p&gt;I have class methods to define auxiliary co...</td>\n",
              "      <td>&lt;java&gt;&lt;scala&gt;</td>\n",
              "      <td>28577</td>\n",
              "      <td>Globalization architecture</td>\n",
              "      <td>&lt;p&gt;I need to store products for an e-commerce ...</td>\n",
              "      <td>&lt;c#&gt;&lt;architecture&gt;&lt;localization&gt;&lt;globalization&gt;</td>\n",
              "      <td>0</td>\n",
              "    </tr>\n",
              "    <tr>\n",
              "      <th>2</th>\n",
              "      <td>75780300.0</td>\n",
              "      <td>field not getting focus js/html</td>\n",
              "      <td>&lt;pre&gt;&lt;code&gt;        &amp;lt;td&amp;gt;&amp;lt;input class=&amp;...</td>\n",
              "      <td>&lt;javascript&gt;&lt;html&gt;</td>\n",
              "      <td>37721077</td>\n",
              "      <td>Multitrigger does not work</td>\n",
              "      <td>&lt;p&gt;I have a problem with my MultiTrigger and I...</td>\n",
              "      <td>&lt;c#&gt;&lt;xaml&gt;&lt;multitrigger&gt;</td>\n",
              "      <td>0</td>\n",
              "    </tr>\n",
              "    <tr>\n",
              "      <th>3</th>\n",
              "      <td>75780298.0</td>\n",
              "      <td>set the Python version of a venv</td>\n",
              "      <td>&lt;p&gt;I have installed a specific version of Pyth...</td>\n",
              "      <td>&lt;python&gt;&lt;pyenv&gt;</td>\n",
              "      <td>28932</td>\n",
              "      <td>Best JavaScript compressor</td>\n",
              "      <td>&lt;p&gt;What is the the best JavaScript compressor ...</td>\n",
              "      <td>&lt;javascript&gt;&lt;compression&gt;</td>\n",
              "      <td>0</td>\n",
              "    </tr>\n",
              "  </tbody>\n",
              "</table>\n",
              "</div>\n",
              "      <button class=\"colab-df-convert\" onclick=\"convertToInteractive('df-26da1db9-41c1-477e-915d-0966c4ca717f')\"\n",
              "              title=\"Convert this dataframe to an interactive table.\"\n",
              "              style=\"display:none;\">\n",
              "        \n",
              "  <svg xmlns=\"http://www.w3.org/2000/svg\" height=\"24px\"viewBox=\"0 0 24 24\"\n",
              "       width=\"24px\">\n",
              "    <path d=\"M0 0h24v24H0V0z\" fill=\"none\"/>\n",
              "    <path d=\"M18.56 5.44l.94 2.06.94-2.06 2.06-.94-2.06-.94-.94-2.06-.94 2.06-2.06.94zm-11 1L8.5 8.5l.94-2.06 2.06-.94-2.06-.94L8.5 2.5l-.94 2.06-2.06.94zm10 10l.94 2.06.94-2.06 2.06-.94-2.06-.94-.94-2.06-.94 2.06-2.06.94z\"/><path d=\"M17.41 7.96l-1.37-1.37c-.4-.4-.92-.59-1.43-.59-.52 0-1.04.2-1.43.59L10.3 9.45l-7.72 7.72c-.78.78-.78 2.05 0 2.83L4 21.41c.39.39.9.59 1.41.59.51 0 1.02-.2 1.41-.59l7.78-7.78 2.81-2.81c.8-.78.8-2.07 0-2.86zM5.41 20L4 18.59l7.72-7.72 1.47 1.35L5.41 20z\"/>\n",
              "  </svg>\n",
              "      </button>\n",
              "      \n",
              "  <style>\n",
              "    .colab-df-container {\n",
              "      display:flex;\n",
              "      flex-wrap:wrap;\n",
              "      gap: 12px;\n",
              "    }\n",
              "\n",
              "    .colab-df-convert {\n",
              "      background-color: #E8F0FE;\n",
              "      border: none;\n",
              "      border-radius: 50%;\n",
              "      cursor: pointer;\n",
              "      display: none;\n",
              "      fill: #1967D2;\n",
              "      height: 32px;\n",
              "      padding: 0 0 0 0;\n",
              "      width: 32px;\n",
              "    }\n",
              "\n",
              "    .colab-df-convert:hover {\n",
              "      background-color: #E2EBFA;\n",
              "      box-shadow: 0px 1px 2px rgba(60, 64, 67, 0.3), 0px 1px 3px 1px rgba(60, 64, 67, 0.15);\n",
              "      fill: #174EA6;\n",
              "    }\n",
              "\n",
              "    [theme=dark] .colab-df-convert {\n",
              "      background-color: #3B4455;\n",
              "      fill: #D2E3FC;\n",
              "    }\n",
              "\n",
              "    [theme=dark] .colab-df-convert:hover {\n",
              "      background-color: #434B5C;\n",
              "      box-shadow: 0px 1px 3px 1px rgba(0, 0, 0, 0.15);\n",
              "      filter: drop-shadow(0px 1px 2px rgba(0, 0, 0, 0.3));\n",
              "      fill: #FFFFFF;\n",
              "    }\n",
              "  </style>\n",
              "\n",
              "      <script>\n",
              "        const buttonEl =\n",
              "          document.querySelector('#df-26da1db9-41c1-477e-915d-0966c4ca717f button.colab-df-convert');\n",
              "        buttonEl.style.display =\n",
              "          google.colab.kernel.accessAllowed ? 'block' : 'none';\n",
              "\n",
              "        async function convertToInteractive(key) {\n",
              "          const element = document.querySelector('#df-26da1db9-41c1-477e-915d-0966c4ca717f');\n",
              "          const dataTable =\n",
              "            await google.colab.kernel.invokeFunction('convertToInteractive',\n",
              "                                                     [key], {});\n",
              "          if (!dataTable) return;\n",
              "\n",
              "          const docLinkHtml = 'Like what you see? Visit the ' +\n",
              "            '<a target=\"_blank\" href=https://colab.research.google.com/notebooks/data_table.ipynb>data table notebook</a>'\n",
              "            + ' to learn more about interactive tables.';\n",
              "          element.innerHTML = '';\n",
              "          dataTable['output_type'] = 'display_data';\n",
              "          await google.colab.output.renderOutput(dataTable, element);\n",
              "          const docLink = document.createElement('div');\n",
              "          docLink.innerHTML = docLinkHtml;\n",
              "          element.appendChild(docLink);\n",
              "        }\n",
              "      </script>\n",
              "    </div>\n",
              "  </div>\n",
              "  "
            ],
            "text/plain": [
              "            1                                             2  \\\n",
              "1  75780318.0  Reason about auxuliary constructors in scala   \n",
              "2  75780300.0               field not getting focus js/html   \n",
              "3  75780298.0              set the Python version of a venv   \n",
              "\n",
              "                                                   3                   4  \\\n",
              "1  <p>I have class methods to define auxiliary co...       <java><scala>   \n",
              "2  <pre><code>        &lt;td&gt;&lt;input class=&...  <javascript><html>   \n",
              "3  <p>I have installed a specific version of Pyth...     <python><pyenv>   \n",
              "\n",
              "          5                           6  \\\n",
              "1     28577  Globalization architecture   \n",
              "2  37721077  Multitrigger does not work   \n",
              "3     28932  Best JavaScript compressor   \n",
              "\n",
              "                                                   7  \\\n",
              "1  <p>I need to store products for an e-commerce ...   \n",
              "2  <p>I have a problem with my MultiTrigger and I...   \n",
              "3  <p>What is the the best JavaScript compressor ...   \n",
              "\n",
              "                                                 8  label  \n",
              "1  <c#><architecture><localization><globalization>      0  \n",
              "2                         <c#><xaml><multitrigger>      0  \n",
              "3                        <javascript><compression>      0  "
            ]
          },
          "execution_count": 73,
          "metadata": {},
          "output_type": "execute_result"
        }
      ],
      "source": [
        "df.head(3)"
      ]
    },
    {
      "cell_type": "code",
      "execution_count": null,
      "metadata": {
        "colab": {
          "base_uri": "https://localhost:8080/"
        },
        "id": "aFn8hgderoM_",
        "outputId": "e7c7212e-b629-48d1-b415-9956fbb5eebf"
      },
      "outputs": [
        {
          "data": {
            "text/plain": [
              "['Id1', 'Title1', 'Body1', 'Tags1', 'Id2', 'Title2', 'Body2', 'Tags2', 'label']"
            ]
          },
          "execution_count": 74,
          "metadata": {},
          "output_type": "execute_result"
        }
      ],
      "source": [
        "df.rename(columns={1: 'Id1', 2: 'Title1', 3: 'Body1', 4: 'Tags1', 5: 'Id2', 6: 'Title2', 7: 'Body2', 8: 'Tags2', }, inplace=True)\n",
        "# df = df.drop(index=0)\n",
        "column_names = df.columns.tolist()\n",
        "column_names"
      ]
    },
    {
      "attachments": {},
      "cell_type": "markdown",
      "metadata": {},
      "source": [
        "### Downloading Dataset with Kaggle"
      ]
    },
    {
      "cell_type": "markdown",
      "metadata": {
        "id": "3lLPFtACsYv1"
      },
      "source": [
        "source: https://www.kaggle.com/code/paultimothymooney/how-to-query-the-stack-overflow-data?scriptVersionId=5165129"
      ]
    },
    {
      "cell_type": "code",
      "execution_count": null,
      "metadata": {
        "id": "O8EJy34LqXCa"
      },
      "outputs": [],
      "source": [
        "# DUPLICATES\n",
        "\n",
        "with open('/content/drive/My Drive/duplicate_posts_50000_with_names.csv','r') as csvfile:\n",
        "    data_reader = csv.reader(csvfile)\n",
        "\n",
        "    data = []\n",
        "    for row in data_reader:\n",
        "        data.append(row)\n",
        "\n",
        "df2 = pd.DataFrame(data)\n",
        "df2 = df2.iloc[1: , :]\n",
        "# duplicates: label 1\n",
        "df2[\"label\"] = 1"
      ]
    },
    {
      "cell_type": "code",
      "execution_count": null,
      "metadata": {
        "colab": {
          "base_uri": "https://localhost:8080/",
          "height": 239
        },
        "id": "7p257o5Vq8En",
        "outputId": "ef33c7ec-ed56-409e-f807-6ce1c7119347"
      },
      "outputs": [
        {
          "data": {
            "text/html": [
              "\n",
              "  <div id=\"df-06151f99-d9c6-4392-84df-a2979587b56c\">\n",
              "    <div class=\"colab-df-container\">\n",
              "      <div>\n",
              "<style scoped>\n",
              "    .dataframe tbody tr th:only-of-type {\n",
              "        vertical-align: middle;\n",
              "    }\n",
              "\n",
              "    .dataframe tbody tr th {\n",
              "        vertical-align: top;\n",
              "    }\n",
              "\n",
              "    .dataframe thead th {\n",
              "        text-align: right;\n",
              "    }\n",
              "</style>\n",
              "<table border=\"1\" class=\"dataframe\">\n",
              "  <thead>\n",
              "    <tr style=\"text-align: right;\">\n",
              "      <th></th>\n",
              "      <th>Id1</th>\n",
              "      <th>Title1</th>\n",
              "      <th>Body1</th>\n",
              "      <th>Id2</th>\n",
              "      <th>Title2</th>\n",
              "      <th>Body2</th>\n",
              "      <th>Tags1</th>\n",
              "      <th>Tags2</th>\n",
              "      <th>label</th>\n",
              "    </tr>\n",
              "  </thead>\n",
              "  <tbody>\n",
              "    <tr>\n",
              "      <th>1</th>\n",
              "      <td>18418</td>\n",
              "      <td>Elegant way to remove items from sequence in P...</td>\n",
              "      <td>&lt;p&gt;When I am writing code in Python, I often n...</td>\n",
              "      <td>1207406</td>\n",
              "      <td>How to remove items from a list while iterating?</td>\n",
              "      <td>&lt;p&gt;I'm iterating over a list of tuples in Pyth...</td>\n",
              "      <td>&lt;python&gt;&lt;optimization&gt;&lt;set&gt;&lt;series&gt;</td>\n",
              "      <td>&lt;python&gt;&lt;iteration&gt;</td>\n",
              "      <td>1</td>\n",
              "    </tr>\n",
              "    <tr>\n",
              "      <th>2</th>\n",
              "      <td>49146</td>\n",
              "      <td>How can I make an EXE file from a Python program?</td>\n",
              "      <td>&lt;p&gt;I've used several modules to make EXEs for ...</td>\n",
              "      <td>2933</td>\n",
              "      <td>Create a directly-executable cross-platform GU...</td>\n",
              "      <td>&lt;p&gt;Python works on multiple platforms and can ...</td>\n",
              "      <td>&lt;python&gt;&lt;exe&gt;&lt;executable&gt;</td>\n",
              "      <td>&lt;python&gt;&lt;user-interface&gt;&lt;deployment&gt;&lt;tkinter&gt;&lt;...</td>\n",
              "      <td>1</td>\n",
              "    </tr>\n",
              "    <tr>\n",
              "      <th>3</th>\n",
              "      <td>49146</td>\n",
              "      <td>How can I make an EXE file from a Python program?</td>\n",
              "      <td>&lt;p&gt;I've used several modules to make EXEs for ...</td>\n",
              "      <td>1646326</td>\n",
              "      <td>How to deploy Python to Windows users?</td>\n",
              "      <td>&lt;p&gt;I'm soon to launch a &lt;a href=\"http://www.be...</td>\n",
              "      <td>&lt;python&gt;&lt;exe&gt;&lt;executable&gt;</td>\n",
              "      <td>&lt;python&gt;&lt;windows&gt;&lt;delphi&gt;&lt;deployment&gt;&lt;lazarus&gt;</td>\n",
              "      <td>1</td>\n",
              "    </tr>\n",
              "  </tbody>\n",
              "</table>\n",
              "</div>\n",
              "      <button class=\"colab-df-convert\" onclick=\"convertToInteractive('df-06151f99-d9c6-4392-84df-a2979587b56c')\"\n",
              "              title=\"Convert this dataframe to an interactive table.\"\n",
              "              style=\"display:none;\">\n",
              "        \n",
              "  <svg xmlns=\"http://www.w3.org/2000/svg\" height=\"24px\"viewBox=\"0 0 24 24\"\n",
              "       width=\"24px\">\n",
              "    <path d=\"M0 0h24v24H0V0z\" fill=\"none\"/>\n",
              "    <path d=\"M18.56 5.44l.94 2.06.94-2.06 2.06-.94-2.06-.94-.94-2.06-.94 2.06-2.06.94zm-11 1L8.5 8.5l.94-2.06 2.06-.94-2.06-.94L8.5 2.5l-.94 2.06-2.06.94zm10 10l.94 2.06.94-2.06 2.06-.94-2.06-.94-.94-2.06-.94 2.06-2.06.94z\"/><path d=\"M17.41 7.96l-1.37-1.37c-.4-.4-.92-.59-1.43-.59-.52 0-1.04.2-1.43.59L10.3 9.45l-7.72 7.72c-.78.78-.78 2.05 0 2.83L4 21.41c.39.39.9.59 1.41.59.51 0 1.02-.2 1.41-.59l7.78-7.78 2.81-2.81c.8-.78.8-2.07 0-2.86zM5.41 20L4 18.59l7.72-7.72 1.47 1.35L5.41 20z\"/>\n",
              "  </svg>\n",
              "      </button>\n",
              "      \n",
              "  <style>\n",
              "    .colab-df-container {\n",
              "      display:flex;\n",
              "      flex-wrap:wrap;\n",
              "      gap: 12px;\n",
              "    }\n",
              "\n",
              "    .colab-df-convert {\n",
              "      background-color: #E8F0FE;\n",
              "      border: none;\n",
              "      border-radius: 50%;\n",
              "      cursor: pointer;\n",
              "      display: none;\n",
              "      fill: #1967D2;\n",
              "      height: 32px;\n",
              "      padding: 0 0 0 0;\n",
              "      width: 32px;\n",
              "    }\n",
              "\n",
              "    .colab-df-convert:hover {\n",
              "      background-color: #E2EBFA;\n",
              "      box-shadow: 0px 1px 2px rgba(60, 64, 67, 0.3), 0px 1px 3px 1px rgba(60, 64, 67, 0.15);\n",
              "      fill: #174EA6;\n",
              "    }\n",
              "\n",
              "    [theme=dark] .colab-df-convert {\n",
              "      background-color: #3B4455;\n",
              "      fill: #D2E3FC;\n",
              "    }\n",
              "\n",
              "    [theme=dark] .colab-df-convert:hover {\n",
              "      background-color: #434B5C;\n",
              "      box-shadow: 0px 1px 3px 1px rgba(0, 0, 0, 0.15);\n",
              "      filter: drop-shadow(0px 1px 2px rgba(0, 0, 0, 0.3));\n",
              "      fill: #FFFFFF;\n",
              "    }\n",
              "  </style>\n",
              "\n",
              "      <script>\n",
              "        const buttonEl =\n",
              "          document.querySelector('#df-06151f99-d9c6-4392-84df-a2979587b56c button.colab-df-convert');\n",
              "        buttonEl.style.display =\n",
              "          google.colab.kernel.accessAllowed ? 'block' : 'none';\n",
              "\n",
              "        async function convertToInteractive(key) {\n",
              "          const element = document.querySelector('#df-06151f99-d9c6-4392-84df-a2979587b56c');\n",
              "          const dataTable =\n",
              "            await google.colab.kernel.invokeFunction('convertToInteractive',\n",
              "                                                     [key], {});\n",
              "          if (!dataTable) return;\n",
              "\n",
              "          const docLinkHtml = 'Like what you see? Visit the ' +\n",
              "            '<a target=\"_blank\" href=https://colab.research.google.com/notebooks/data_table.ipynb>data table notebook</a>'\n",
              "            + ' to learn more about interactive tables.';\n",
              "          element.innerHTML = '';\n",
              "          dataTable['output_type'] = 'display_data';\n",
              "          await google.colab.output.renderOutput(dataTable, element);\n",
              "          const docLink = document.createElement('div');\n",
              "          docLink.innerHTML = docLinkHtml;\n",
              "          element.appendChild(docLink);\n",
              "        }\n",
              "      </script>\n",
              "    </div>\n",
              "  </div>\n",
              "  "
            ],
            "text/plain": [
              "     Id1                                             Title1  \\\n",
              "1  18418  Elegant way to remove items from sequence in P...   \n",
              "2  49146  How can I make an EXE file from a Python program?   \n",
              "3  49146  How can I make an EXE file from a Python program?   \n",
              "\n",
              "                                               Body1      Id2  \\\n",
              "1  <p>When I am writing code in Python, I often n...  1207406   \n",
              "2  <p>I've used several modules to make EXEs for ...     2933   \n",
              "3  <p>I've used several modules to make EXEs for ...  1646326   \n",
              "\n",
              "                                              Title2  \\\n",
              "1   How to remove items from a list while iterating?   \n",
              "2  Create a directly-executable cross-platform GU...   \n",
              "3             How to deploy Python to Windows users?   \n",
              "\n",
              "                                               Body2  \\\n",
              "1  <p>I'm iterating over a list of tuples in Pyth...   \n",
              "2  <p>Python works on multiple platforms and can ...   \n",
              "3  <p>I'm soon to launch a <a href=\"http://www.be...   \n",
              "\n",
              "                                 Tags1  \\\n",
              "1  <python><optimization><set><series>   \n",
              "2            <python><exe><executable>   \n",
              "3            <python><exe><executable>   \n",
              "\n",
              "                                               Tags2  label  \n",
              "1                                <python><iteration>      1  \n",
              "2  <python><user-interface><deployment><tkinter><...      1  \n",
              "3     <python><windows><delphi><deployment><lazarus>      1  "
            ]
          },
          "execution_count": 76,
          "metadata": {},
          "output_type": "execute_result"
        }
      ],
      "source": [
        "df2.rename(columns={0: 'Id1', 1: 'Title1', 2: 'Body1', 3: 'Id2', 4: 'Title2', 5: 'Body2', 6: 'Tags1', 7: 'Tags2' }, inplace=True)\n",
        "df2.head(3)"
      ]
    },
    {
      "cell_type": "code",
      "execution_count": null,
      "metadata": {
        "colab": {
          "base_uri": "https://localhost:8080/",
          "height": 208
        },
        "id": "QQc1ZJRdtEF7",
        "outputId": "2187f81f-5cd1-47e7-b209-d4af8b5821ba"
      },
      "outputs": [
        {
          "name": "stdout",
          "output_type": "stream",
          "text": [
            "['Id1', 'Title1', 'Body1', 'Id2', 'Title2', 'Body2', 'Tags1', 'Tags2', 'label']\n"
          ]
        },
        {
          "data": {
            "text/html": [
              "\n",
              "  <div id=\"df-f54b4caf-b907-433c-8618-6df0b3ee06ff\">\n",
              "    <div class=\"colab-df-container\">\n",
              "      <div>\n",
              "<style scoped>\n",
              "    .dataframe tbody tr th:only-of-type {\n",
              "        vertical-align: middle;\n",
              "    }\n",
              "\n",
              "    .dataframe tbody tr th {\n",
              "        vertical-align: top;\n",
              "    }\n",
              "\n",
              "    .dataframe thead th {\n",
              "        text-align: right;\n",
              "    }\n",
              "</style>\n",
              "<table border=\"1\" class=\"dataframe\">\n",
              "  <thead>\n",
              "    <tr style=\"text-align: right;\">\n",
              "      <th></th>\n",
              "      <th>Id1</th>\n",
              "      <th>Title1</th>\n",
              "      <th>Body1</th>\n",
              "      <th>Tags1</th>\n",
              "      <th>Id2</th>\n",
              "      <th>Title2</th>\n",
              "      <th>Body2</th>\n",
              "      <th>Tags2</th>\n",
              "      <th>label</th>\n",
              "    </tr>\n",
              "  </thead>\n",
              "  <tbody>\n",
              "    <tr>\n",
              "      <th>1</th>\n",
              "      <td>75780318.0</td>\n",
              "      <td>Reason about auxuliary constructors in scala</td>\n",
              "      <td>&lt;p&gt;I have class methods to define auxiliary co...</td>\n",
              "      <td>&lt;java&gt;&lt;scala&gt;</td>\n",
              "      <td>28577</td>\n",
              "      <td>Globalization architecture</td>\n",
              "      <td>&lt;p&gt;I need to store products for an e-commerce ...</td>\n",
              "      <td>&lt;c#&gt;&lt;architecture&gt;&lt;localization&gt;&lt;globalization&gt;</td>\n",
              "      <td>0</td>\n",
              "    </tr>\n",
              "    <tr>\n",
              "      <th>2</th>\n",
              "      <td>75780300.0</td>\n",
              "      <td>field not getting focus js/html</td>\n",
              "      <td>&lt;pre&gt;&lt;code&gt;        &amp;lt;td&amp;gt;&amp;lt;input class=&amp;...</td>\n",
              "      <td>&lt;javascript&gt;&lt;html&gt;</td>\n",
              "      <td>37721077</td>\n",
              "      <td>Multitrigger does not work</td>\n",
              "      <td>&lt;p&gt;I have a problem with my MultiTrigger and I...</td>\n",
              "      <td>&lt;c#&gt;&lt;xaml&gt;&lt;multitrigger&gt;</td>\n",
              "      <td>0</td>\n",
              "    </tr>\n",
              "  </tbody>\n",
              "</table>\n",
              "</div>\n",
              "      <button class=\"colab-df-convert\" onclick=\"convertToInteractive('df-f54b4caf-b907-433c-8618-6df0b3ee06ff')\"\n",
              "              title=\"Convert this dataframe to an interactive table.\"\n",
              "              style=\"display:none;\">\n",
              "        \n",
              "  <svg xmlns=\"http://www.w3.org/2000/svg\" height=\"24px\"viewBox=\"0 0 24 24\"\n",
              "       width=\"24px\">\n",
              "    <path d=\"M0 0h24v24H0V0z\" fill=\"none\"/>\n",
              "    <path d=\"M18.56 5.44l.94 2.06.94-2.06 2.06-.94-2.06-.94-.94-2.06-.94 2.06-2.06.94zm-11 1L8.5 8.5l.94-2.06 2.06-.94-2.06-.94L8.5 2.5l-.94 2.06-2.06.94zm10 10l.94 2.06.94-2.06 2.06-.94-2.06-.94-.94-2.06-.94 2.06-2.06.94z\"/><path d=\"M17.41 7.96l-1.37-1.37c-.4-.4-.92-.59-1.43-.59-.52 0-1.04.2-1.43.59L10.3 9.45l-7.72 7.72c-.78.78-.78 2.05 0 2.83L4 21.41c.39.39.9.59 1.41.59.51 0 1.02-.2 1.41-.59l7.78-7.78 2.81-2.81c.8-.78.8-2.07 0-2.86zM5.41 20L4 18.59l7.72-7.72 1.47 1.35L5.41 20z\"/>\n",
              "  </svg>\n",
              "      </button>\n",
              "      \n",
              "  <style>\n",
              "    .colab-df-container {\n",
              "      display:flex;\n",
              "      flex-wrap:wrap;\n",
              "      gap: 12px;\n",
              "    }\n",
              "\n",
              "    .colab-df-convert {\n",
              "      background-color: #E8F0FE;\n",
              "      border: none;\n",
              "      border-radius: 50%;\n",
              "      cursor: pointer;\n",
              "      display: none;\n",
              "      fill: #1967D2;\n",
              "      height: 32px;\n",
              "      padding: 0 0 0 0;\n",
              "      width: 32px;\n",
              "    }\n",
              "\n",
              "    .colab-df-convert:hover {\n",
              "      background-color: #E2EBFA;\n",
              "      box-shadow: 0px 1px 2px rgba(60, 64, 67, 0.3), 0px 1px 3px 1px rgba(60, 64, 67, 0.15);\n",
              "      fill: #174EA6;\n",
              "    }\n",
              "\n",
              "    [theme=dark] .colab-df-convert {\n",
              "      background-color: #3B4455;\n",
              "      fill: #D2E3FC;\n",
              "    }\n",
              "\n",
              "    [theme=dark] .colab-df-convert:hover {\n",
              "      background-color: #434B5C;\n",
              "      box-shadow: 0px 1px 3px 1px rgba(0, 0, 0, 0.15);\n",
              "      filter: drop-shadow(0px 1px 2px rgba(0, 0, 0, 0.3));\n",
              "      fill: #FFFFFF;\n",
              "    }\n",
              "  </style>\n",
              "\n",
              "      <script>\n",
              "        const buttonEl =\n",
              "          document.querySelector('#df-f54b4caf-b907-433c-8618-6df0b3ee06ff button.colab-df-convert');\n",
              "        buttonEl.style.display =\n",
              "          google.colab.kernel.accessAllowed ? 'block' : 'none';\n",
              "\n",
              "        async function convertToInteractive(key) {\n",
              "          const element = document.querySelector('#df-f54b4caf-b907-433c-8618-6df0b3ee06ff');\n",
              "          const dataTable =\n",
              "            await google.colab.kernel.invokeFunction('convertToInteractive',\n",
              "                                                     [key], {});\n",
              "          if (!dataTable) return;\n",
              "\n",
              "          const docLinkHtml = 'Like what you see? Visit the ' +\n",
              "            '<a target=\"_blank\" href=https://colab.research.google.com/notebooks/data_table.ipynb>data table notebook</a>'\n",
              "            + ' to learn more about interactive tables.';\n",
              "          element.innerHTML = '';\n",
              "          dataTable['output_type'] = 'display_data';\n",
              "          await google.colab.output.renderOutput(dataTable, element);\n",
              "          const docLink = document.createElement('div');\n",
              "          docLink.innerHTML = docLinkHtml;\n",
              "          element.appendChild(docLink);\n",
              "        }\n",
              "      </script>\n",
              "    </div>\n",
              "  </div>\n",
              "  "
            ],
            "text/plain": [
              "          Id1                                        Title1  \\\n",
              "1  75780318.0  Reason about auxuliary constructors in scala   \n",
              "2  75780300.0               field not getting focus js/html   \n",
              "\n",
              "                                               Body1               Tags1  \\\n",
              "1  <p>I have class methods to define auxiliary co...       <java><scala>   \n",
              "2  <pre><code>        &lt;td&gt;&lt;input class=&...  <javascript><html>   \n",
              "\n",
              "        Id2                      Title2  \\\n",
              "1     28577  Globalization architecture   \n",
              "2  37721077  Multitrigger does not work   \n",
              "\n",
              "                                               Body2  \\\n",
              "1  <p>I need to store products for an e-commerce ...   \n",
              "2  <p>I have a problem with my MultiTrigger and I...   \n",
              "\n",
              "                                             Tags2  label  \n",
              "1  <c#><architecture><localization><globalization>      0  \n",
              "2                         <c#><xaml><multitrigger>      0  "
            ]
          },
          "execution_count": 77,
          "metadata": {},
          "output_type": "execute_result"
        }
      ],
      "source": [
        "column_names2 = df2.columns.tolist()\n",
        "print(column_names2)\n",
        "df2 = df2[column_names]\n",
        "joint_df = pd.concat([df, df2])\n",
        "joint_df.head(2)"
      ]
    },
    {
      "cell_type": "code",
      "execution_count": null,
      "metadata": {
        "colab": {
          "base_uri": "https://localhost:8080/"
        },
        "id": "87POLd5TvwdR",
        "outputId": "9205764d-2dff-4e4d-de2e-7666f0518fbf"
      },
      "outputs": [
        {
          "data": {
            "text/plain": [
              "(100000, 9)"
            ]
          },
          "execution_count": 78,
          "metadata": {},
          "output_type": "execute_result"
        }
      ],
      "source": [
        "joint_df.shape"
      ]
    },
    {
      "cell_type": "code",
      "execution_count": null,
      "metadata": {
        "id": "ARfJlYfsyEjl"
      },
      "outputs": [],
      "source": [
        "# export to csv\n",
        "path = '/content/drive/My Drive/dupls_and_non_dupls_100k.csv'\n",
        "with open(path, 'w', encoding = 'utf-8-sig') as f:\n",
        "  joint_df.to_csv(f)"
      ]
    },
    {
      "attachments": {},
      "cell_type": "markdown",
      "metadata": {},
      "source": [
        "### To CSV conversion (triplet loss format)"
      ]
    },
    {
      "cell_type": "code",
      "execution_count": null,
      "metadata": {
        "id": "BYr_gskOx1IZ"
      },
      "outputs": [],
      "source": [
        "random_posts_file_name_2 = \"https://raw.githubusercontent.com/natalievolk/StackOverflowDuplicateDetection/main/data/csv/classifier_random_posts_2.csv\"\n",
        "random_posts_file_name_3 = \"https://raw.githubusercontent.com/natalievolk/StackOverflowDuplicateDetection/main/data/csv/classifier_random_posts_3.csv\"\n",
        "\n",
        "df1 = pd.read_csv(random_posts_file_name_2, on_bad_lines='skip')\n",
        "df2 = pd.read_csv(random_posts_file_name_3, on_bad_lines='skip')\n",
        "\n",
        "df = pd.concat([df1, df2], axis=1)\n"
      ]
    },
    {
      "cell_type": "code",
      "execution_count": null,
      "metadata": {
        "colab": {
          "base_uri": "https://localhost:8080/"
        },
        "id": "C5gjwuqe7Qn4",
        "outputId": "d5dccd36-d969-4253-8531-e165db17a3cf"
      },
      "outputs": [
        {
          "name": "stdout",
          "output_type": "stream",
          "text": [
            "Mounted at /content/drive\n"
          ]
        }
      ],
      "source": [
        "from google.colab import drive\n",
        "\n",
        "drive.mount('/content/drive')\n",
        "\n",
        "## ENTER YOUR OWN PATH HERE!!!\n",
        "path = '/content/drive/My Drive/ECE324_Own/output.csv'\n",
        "with open(path, 'w', encoding = 'utf-8-sig') as f:\n",
        "  df.to_csv(f)"
      ]
    },
    {
      "cell_type": "code",
      "execution_count": null,
      "metadata": {
        "colab": {
          "base_uri": "https://localhost:8080/"
        },
        "id": "Zwf3Wq6yuCgB",
        "outputId": "ac5a0bbc-8489-48a0-c9ce-eba8cfb3ed7d"
      },
      "outputs": [
        {
          "name": "stdout",
          "output_type": "stream",
          "text": [
            "Go to the following link in your browser:\n",
            "\n",
            "    https://accounts.google.com/o/oauth2/auth?response_type=code&client_id=764086051850-6qr4p6gpi6hn506pt8ejuq83di341hur.apps.googleusercontent.com&redirect_uri=https%3A%2F%2Fsdk.cloud.google.com%2Fapplicationdefaultauthcode.html&scope=openid+https%3A%2F%2Fwww.googleapis.com%2Fauth%2Fuserinfo.email+https%3A%2F%2Fwww.googleapis.com%2Fauth%2Fcloud-platform+https%3A%2F%2Fwww.googleapis.com%2Fauth%2Fsqlservice.login+https%3A%2F%2Fwww.googleapis.com%2Fauth%2Faccounts.reauth&state=M1NsHu6oP6vvhFKcvG6JmyPVIVpLhW&prompt=consent&access_type=offline&code_challenge=xUeXgdWwqh3Jf9FebQwLQLmyH495FOp3QoeIdQ-4GCg&code_challenge_method=S256\n",
            "\n",
            "Enter authorization code: 4/0AWtgzh5Vh1iHJzToNaZUR-5GfMzcBcZ95Qe9vFoveyfjg7wO6vRCa6rhFPV8rkV75jPyvw\n",
            "\n",
            "Credentials saved to file: [/content/.config/application_default_credentials.json]\n",
            "\n",
            "These credentials will be used by any library that requests Application Default Credentials (ADC).\n",
            "\u001b[1;33mWARNING:\u001b[0m \n",
            "Cannot find a quota project to add to ADC. You might receive a \"quota exceeded\" or \"API not enabled\" error. Run $ gcloud auth application-default set-quota-project to add a quota project.\n"
          ]
        }
      ],
      "source": [
        "!gcloud auth application-default login"
      ]
    },
    {
      "cell_type": "code",
      "execution_count": null,
      "metadata": {
        "colab": {
          "base_uri": "https://localhost:8080/"
        },
        "id": "1J9ne5pls84p",
        "outputId": "2b7fbc9c-5f63-4c6c-e089-e2fe15637817"
      },
      "outputs": [
        {
          "name": "stdout",
          "output_type": "stream",
          "text": [
            "Looking in indexes: https://pypi.org/simple, https://us-python.pkg.dev/colab-wheels/public/simple/\n",
            "Collecting git+https://github.com/SohierDane/BigQuery_Helper.git\n",
            "  Cloning https://github.com/SohierDane/BigQuery_Helper.git to /tmp/pip-req-build-zqkf12ex\n",
            "  Running command git clone --filter=blob:none --quiet https://github.com/SohierDane/BigQuery_Helper.git /tmp/pip-req-build-zqkf12ex\n",
            "  Resolved https://github.com/SohierDane/BigQuery_Helper.git to commit 8615a7f6c1663e7f2d48aa2b32c2dbcb600a440f\n",
            "  \u001b[1;31merror\u001b[0m: \u001b[1msubprocess-exited-with-error\u001b[0m\n",
            "  \n",
            "  \u001b[31m×\u001b[0m \u001b[32mpython setup.py egg_info\u001b[0m did not run successfully.\n",
            "  \u001b[31m│\u001b[0m exit code: \u001b[1;36m1\u001b[0m\n",
            "  \u001b[31m╰─>\u001b[0m See above for output.\n",
            "  \n",
            "  \u001b[1;35mnote\u001b[0m: This error originates from a subprocess, and is likely not a problem with pip.\n",
            "  Preparing metadata (setup.py) ... \u001b[?25l\u001b[?25herror\n",
            "\u001b[1;31merror\u001b[0m: \u001b[1mmetadata-generation-failed\u001b[0m\n",
            "\n",
            "\u001b[31m×\u001b[0m Encountered error while generating package metadata.\n",
            "\u001b[31m╰─>\u001b[0m See above for output.\n",
            "\n",
            "\u001b[1;35mnote\u001b[0m: This is an issue with the package mentioned above, not pip.\n",
            "\u001b[1;36mhint\u001b[0m: See above for details.\n"
          ]
        }
      ],
      "source": [
        "# !pip install -U google-cloud-bigquery\n",
        "# !pip install --upgrade google-cloud-bigquery\n",
        "# !pip install bq_helper\n",
        "# !pip install -e git+https://github.com/SohierDane/BigQuery_Helper#egg=bq_helper\n",
        "!pip install git+https://github.com/SohierDane/BigQuery_Helper.git"
      ]
    },
    {
      "attachments": {},
      "cell_type": "markdown",
      "metadata": {},
      "source": [
        "### Querying with BigQuery"
      ]
    },
    {
      "cell_type": "code",
      "execution_count": 1,
      "metadata": {
        "colab": {
          "base_uri": "https://localhost:8080/",
          "height": 383
        },
        "id": "rDtnwq-gsVXg",
        "outputId": "83eef9c0-e20c-4d07-a9d5-b61b04f43f17"
      },
      "outputs": [],
      "source": [
        "import bq_helper\n",
        "from bq_helper import BigQueryHelper\n",
        "# https://www.kaggle.com/sohier/introduction-to-the-bq-helper-package\n",
        "stackOverflow = bq_helper.BigQueryHelper(active_project=\"bigquery-public-data\",\n",
        "                                   dataset_name=\"stackoverflow\")"
      ]
    },
    {
      "cell_type": "code",
      "execution_count": null,
      "metadata": {
        "id": "LKg41VMssdOD"
      },
      "outputs": [],
      "source": [
        "bq_assistant = BigQueryHelper(\"bigquery-public-data\", \"stackoverflow\")\n",
        "bq_assistant.list_tables()\n"
      ]
    },
    {
      "cell_type": "code",
      "execution_count": null,
      "metadata": {
        "id": "eChnhLoRshXs"
      },
      "outputs": [],
      "source": [
        "bq_assistant.head(\"comments\", num_rows=20)"
      ]
    }
  ],
  "metadata": {
    "colab": {
      "provenance": []
    },
    "kernelspec": {
      "display_name": "Python 3",
      "name": "python3"
    },
    "language_info": {
      "codemirror_mode": {
        "name": "ipython",
        "version": 3
      },
      "file_extension": ".py",
      "mimetype": "text/x-python",
      "name": "python",
      "nbconvert_exporter": "python",
      "pygments_lexer": "ipython3",
      "version": "3.8.3"
    }
  },
  "nbformat": 4,
  "nbformat_minor": 0
}
